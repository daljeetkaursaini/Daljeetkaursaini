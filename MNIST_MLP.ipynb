{
  "nbformat": 4,
  "nbformat_minor": 0,
  "metadata": {
    "colab": {
      "name": "MNIST_MLP.ipynb",
      "provenance": [],
      "collapsed_sections": [],
      "include_colab_link": true
    },
    "kernelspec": {
      "name": "python3",
      "display_name": "Python 3"
    },
    "language_info": {
      "name": "python"
    }
  },
  "cells": [
    {
      "cell_type": "markdown",
      "metadata": {
        "id": "view-in-github",
        "colab_type": "text"
      },
      "source": [
        "<a href=\"https://colab.research.google.com/github/daljeetkaursaini/Daljeetkaursaini/blob/main/MNIST_MLP.ipynb\" target=\"_parent\"><img src=\"https://colab.research.google.com/assets/colab-badge.svg\" alt=\"Open In Colab\"/></a>"
      ]
    },
    {
      "cell_type": "code",
      "execution_count": null,
      "metadata": {
        "id": "nrSovlCLE9Vq"
      },
      "outputs": [],
      "source": [
        "from tensorflow.keras.datasets import mnist\n",
        "from tensorflow.keras.models import Sequential, load_model\n",
        "from tensorflow.keras.layers import Dense, Dropout, Activation\n",
        "from keras.utils import np_utils"
      ]
    },
    {
      "cell_type": "code",
      "source": [
        "(X_train, y_train), (X_test, y_test) = mnist.load_data()"
      ],
      "metadata": {
        "colab": {
          "base_uri": "https://localhost:8080/"
        },
        "id": "Vyhy8fDXFbfK",
        "outputId": "c76f8a30-1abf-4c5f-8ee1-8bd6a92e0f62"
      },
      "execution_count": null,
      "outputs": [
        {
          "output_type": "stream",
          "name": "stdout",
          "text": [
            "Downloading data from https://storage.googleapis.com/tensorflow/tf-keras-datasets/mnist.npz\n",
            "11493376/11490434 [==============================] - 0s 0us/step\n",
            "11501568/11490434 [==============================] - 0s 0us/step\n"
          ]
        }
      ]
    },
    {
      "cell_type": "code",
      "source": [
        "# let's print the shape before we reshape and normalize\n",
        "print(\"X_train shape\", X_train.shape)\n",
        "print(\"y_train shape\", y_train.shape)\n",
        "print(\"X_test shape\", X_test.shape)\n",
        "print(\"y_test shape\", y_test.shape)\n",
        "\n",
        "# building the input vector from the 28x28 pixels\n",
        "X_train = X_train.reshape(60000, 784)\n",
        "X_test = X_test.reshape(10000, 784)\n",
        "X_train = X_train.astype('float32')\n",
        "X_test = X_test.astype('float32')\n",
        "\n",
        "# normalizing the data to help with the training\n",
        "X_train /= 255\n",
        "X_test /= 255\n",
        "\n",
        "# print the final input shape ready for training\n",
        "print(\"Train matrix shape\", X_train.shape)\n",
        "print(\"Test matrix shape\", X_test.shape)"
      ],
      "metadata": {
        "colab": {
          "base_uri": "https://localhost:8080/"
        },
        "id": "M9WYZiC7FfYF",
        "outputId": "4022aeef-fcf8-4b0a-af2f-5bbd899d15d4"
      },
      "execution_count": null,
      "outputs": [
        {
          "output_type": "stream",
          "name": "stdout",
          "text": [
            "X_train shape (60000, 28, 28)\n",
            "y_train shape (60000,)\n",
            "X_test shape (10000, 28, 28)\n",
            "y_test shape (10000,)\n",
            "Train matrix shape (60000, 784)\n",
            "Test matrix shape (10000, 784)\n"
          ]
        }
      ]
    },
    {
      "cell_type": "code",
      "source": [
        "n_classes = 10\n",
        "print(\"Shape before one-hot encoding: \", y_train.shape)\n",
        "Y_train = np_utils.to_categorical(y_train, n_classes)\n",
        "Y_test = np_utils.to_categorical(y_test, n_classes)\n",
        "print(\"Shape after one-hot encoding: \", Y_train.shape)"
      ],
      "metadata": {
        "colab": {
          "base_uri": "https://localhost:8080/"
        },
        "id": "F_G4MFTrFnqT",
        "outputId": "38f21846-1673-43f8-96de-8ede58678c4a"
      },
      "execution_count": null,
      "outputs": [
        {
          "output_type": "stream",
          "name": "stdout",
          "text": [
            "Shape before one-hot encoding:  (60000,)\n",
            "Shape after one-hot encoding:  (60000, 10)\n"
          ]
        }
      ]
    },
    {
      "cell_type": "code",
      "source": [
        "model = Sequential()\n",
        "model.add(Dense(512, input_shape=(784,)))\n",
        "model.add(Activation('relu'))                            \n",
        "model.add(Dropout(0.2))\n",
        "\n",
        "model.add(Dense(512))\n",
        "model.add(Activation('relu'))\n",
        "model.add(Dropout(0.2))\n",
        "\n",
        "model.add(Dense(10))\n",
        "model.add(Activation('softmax'))"
      ],
      "metadata": {
        "id": "8bCuK0vYFxrM"
      },
      "execution_count": null,
      "outputs": []
    },
    {
      "cell_type": "code",
      "source": [
        "model.compile(loss='categorical_crossentropy', metrics=['accuracy'], optimizer='adam')"
      ],
      "metadata": {
        "id": "o36sep4pF17D"
      },
      "execution_count": null,
      "outputs": []
    },
    {
      "cell_type": "code",
      "source": [
        "history = model.fit(X_train, Y_train,\n",
        "          batch_size=128, epochs=20,\n",
        "          verbose=2,\n",
        "          validation_data=(X_test, Y_test))"
      ],
      "metadata": {
        "colab": {
          "base_uri": "https://localhost:8080/"
        },
        "id": "KSB8cBmkF6hl",
        "outputId": "0223eb32-89dd-48a7-a309-fffc9f419183"
      },
      "execution_count": null,
      "outputs": [
        {
          "output_type": "stream",
          "name": "stdout",
          "text": [
            "Epoch 1/20\n",
            "469/469 - 9s - loss: 0.2506 - accuracy: 0.9248 - val_loss: 0.1093 - val_accuracy: 0.9647 - 9s/epoch - 18ms/step\n",
            "Epoch 2/20\n",
            "469/469 - 7s - loss: 0.1029 - accuracy: 0.9690 - val_loss: 0.0769 - val_accuracy: 0.9750 - 7s/epoch - 16ms/step\n",
            "Epoch 3/20\n",
            "469/469 - 7s - loss: 0.0726 - accuracy: 0.9765 - val_loss: 0.0698 - val_accuracy: 0.9783 - 7s/epoch - 15ms/step\n",
            "Epoch 4/20\n",
            "469/469 - 7s - loss: 0.0555 - accuracy: 0.9820 - val_loss: 0.0637 - val_accuracy: 0.9803 - 7s/epoch - 15ms/step\n",
            "Epoch 5/20\n",
            "469/469 - 7s - loss: 0.0460 - accuracy: 0.9847 - val_loss: 0.0713 - val_accuracy: 0.9778 - 7s/epoch - 15ms/step\n",
            "Epoch 6/20\n",
            "469/469 - 7s - loss: 0.0382 - accuracy: 0.9878 - val_loss: 0.0661 - val_accuracy: 0.9816 - 7s/epoch - 15ms/step\n",
            "Epoch 7/20\n",
            "469/469 - 7s - loss: 0.0332 - accuracy: 0.9891 - val_loss: 0.0718 - val_accuracy: 0.9802 - 7s/epoch - 15ms/step\n",
            "Epoch 8/20\n",
            "469/469 - 7s - loss: 0.0330 - accuracy: 0.9894 - val_loss: 0.0715 - val_accuracy: 0.9799 - 7s/epoch - 15ms/step\n",
            "Epoch 9/20\n",
            "469/469 - 7s - loss: 0.0258 - accuracy: 0.9915 - val_loss: 0.0643 - val_accuracy: 0.9837 - 7s/epoch - 16ms/step\n",
            "Epoch 10/20\n",
            "469/469 - 7s - loss: 0.0244 - accuracy: 0.9915 - val_loss: 0.0699 - val_accuracy: 0.9826 - 7s/epoch - 15ms/step\n",
            "Epoch 11/20\n",
            "469/469 - 7s - loss: 0.0243 - accuracy: 0.9923 - val_loss: 0.0662 - val_accuracy: 0.9821 - 7s/epoch - 15ms/step\n",
            "Epoch 12/20\n",
            "469/469 - 7s - loss: 0.0196 - accuracy: 0.9936 - val_loss: 0.0656 - val_accuracy: 0.9834 - 7s/epoch - 15ms/step\n",
            "Epoch 13/20\n",
            "469/469 - 7s - loss: 0.0205 - accuracy: 0.9935 - val_loss: 0.0778 - val_accuracy: 0.9824 - 7s/epoch - 15ms/step\n",
            "Epoch 14/20\n",
            "469/469 - 7s - loss: 0.0171 - accuracy: 0.9942 - val_loss: 0.0791 - val_accuracy: 0.9814 - 7s/epoch - 15ms/step\n",
            "Epoch 15/20\n",
            "469/469 - 7s - loss: 0.0215 - accuracy: 0.9929 - val_loss: 0.0758 - val_accuracy: 0.9833 - 7s/epoch - 15ms/step\n",
            "Epoch 16/20\n",
            "469/469 - 7s - loss: 0.0191 - accuracy: 0.9936 - val_loss: 0.0709 - val_accuracy: 0.9830 - 7s/epoch - 15ms/step\n",
            "Epoch 17/20\n",
            "469/469 - 7s - loss: 0.0156 - accuracy: 0.9947 - val_loss: 0.0885 - val_accuracy: 0.9809 - 7s/epoch - 15ms/step\n",
            "Epoch 18/20\n",
            "469/469 - 8s - loss: 0.0183 - accuracy: 0.9940 - val_loss: 0.0725 - val_accuracy: 0.9822 - 8s/epoch - 18ms/step\n",
            "Epoch 19/20\n",
            "469/469 - 7s - loss: 0.0150 - accuracy: 0.9951 - val_loss: 0.0711 - val_accuracy: 0.9834 - 7s/epoch - 15ms/step\n",
            "Epoch 20/20\n",
            "469/469 - 7s - loss: 0.0178 - accuracy: 0.9941 - val_loss: 0.0878 - val_accuracy: 0.9809 - 7s/epoch - 15ms/step\n"
          ]
        }
      ]
    },
    {
      "cell_type": "code",
      "source": [
        "history.history"
      ],
      "metadata": {
        "colab": {
          "base_uri": "https://localhost:8080/"
        },
        "id": "e92eZVzIGlPZ",
        "outputId": "1e46505d-ef30-4d55-88db-318060b39731"
      },
      "execution_count": null,
      "outputs": [
        {
          "output_type": "execute_result",
          "data": {
            "text/plain": [
              "{'accuracy': [0.9247833490371704,\n",
              "  0.9690166711807251,\n",
              "  0.9765333533287048,\n",
              "  0.9820166826248169,\n",
              "  0.9847333431243896,\n",
              "  0.987766683101654,\n",
              "  0.9890666604042053,\n",
              "  0.9894499778747559,\n",
              "  0.9914666414260864,\n",
              "  0.9914666414260864,\n",
              "  0.9923499822616577,\n",
              "  0.9935500025749207,\n",
              "  0.9934666752815247,\n",
              "  0.9941666722297668,\n",
              "  0.9928666949272156,\n",
              "  0.9935666918754578,\n",
              "  0.9946833252906799,\n",
              "  0.9940333366394043,\n",
              "  0.9950666427612305,\n",
              "  0.9940666556358337],\n",
              " 'loss': [0.2506289482116699,\n",
              "  0.10294214636087418,\n",
              "  0.07257046550512314,\n",
              "  0.055526211857795715,\n",
              "  0.04595503583550453,\n",
              "  0.03820433467626572,\n",
              "  0.03317897021770477,\n",
              "  0.03299279138445854,\n",
              "  0.025845902040600777,\n",
              "  0.024388005957007408,\n",
              "  0.024260060861706734,\n",
              "  0.019644640386104584,\n",
              "  0.02046453021466732,\n",
              "  0.017119936645030975,\n",
              "  0.02152928151190281,\n",
              "  0.01913275755941868,\n",
              "  0.015567011199891567,\n",
              "  0.01828344725072384,\n",
              "  0.014962278306484222,\n",
              "  0.01778341270983219],\n",
              " 'val_accuracy': [0.9646999835968018,\n",
              "  0.9750000238418579,\n",
              "  0.9782999753952026,\n",
              "  0.9803000092506409,\n",
              "  0.9778000116348267,\n",
              "  0.9815999865531921,\n",
              "  0.9801999926567078,\n",
              "  0.9799000024795532,\n",
              "  0.9836999773979187,\n",
              "  0.9825999736785889,\n",
              "  0.9821000099182129,\n",
              "  0.9833999872207642,\n",
              "  0.9824000000953674,\n",
              "  0.9814000129699707,\n",
              "  0.983299970626831,\n",
              "  0.9829999804496765,\n",
              "  0.98089998960495,\n",
              "  0.982200026512146,\n",
              "  0.9833999872207642,\n",
              "  0.98089998960495],\n",
              " 'val_loss': [0.10928329080343246,\n",
              "  0.0769493505358696,\n",
              "  0.06983108818531036,\n",
              "  0.06373908370733261,\n",
              "  0.07126475125551224,\n",
              "  0.06611520797014236,\n",
              "  0.07181304693222046,\n",
              "  0.07152832299470901,\n",
              "  0.06432468444108963,\n",
              "  0.06991054862737656,\n",
              "  0.0661655142903328,\n",
              "  0.06560248136520386,\n",
              "  0.07783173024654388,\n",
              "  0.07914203405380249,\n",
              "  0.0758255198597908,\n",
              "  0.07085045427083969,\n",
              "  0.08850543946027756,\n",
              "  0.07251928746700287,\n",
              "  0.0710974633693695,\n",
              "  0.08777926862239838]}"
            ]
          },
          "metadata": {},
          "execution_count": 10
        }
      ]
    },
    {
      "cell_type": "code",
      "source": [
        "import matplotlib.pyplot as plt\n",
        "fig = plt.figure()\n",
        "plt.subplot(2,1,1)\n",
        "plt.plot(history.history['accuracy'])\n",
        "plt.plot(history.history['val_accuracy'])\n",
        "plt.title('model accuracy')\n",
        "plt.ylabel('accuracy')\n",
        "plt.xlabel('epoch')\n",
        "plt.legend(['train', 'test'], loc='lower right')\n",
        "\n",
        "plt.subplot(2,1,2)\n",
        "plt.plot(history.history['loss'])\n",
        "plt.plot(history.history['val_loss'])\n",
        "plt.title('model loss')\n",
        "plt.ylabel('loss')\n",
        "plt.xlabel('epoch')\n",
        "plt.legend(['train', 'test'], loc='upper right')\n",
        "\n",
        "plt.tight_layout()\n"
      ],
      "metadata": {
        "colab": {
          "base_uri": "https://localhost:8080/",
          "height": 297
        },
        "id": "FUgGkzRyHFp_",
        "outputId": "2cce2515-00d3-4dd0-b5b7-8e712666acc0"
      },
      "execution_count": null,
      "outputs": [
        {
          "output_type": "display_data",
          "data": {
            "text/plain": [
              "<Figure size 432x288 with 2 Axes>"
            ],
            "image/png": "[encoded data removed]"
          },
          "metadata": {
            "needs_background": "light"
          }
        }
      ]
    }
  ]
}